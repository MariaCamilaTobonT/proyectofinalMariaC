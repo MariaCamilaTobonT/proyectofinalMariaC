{
  "metadata": {
    "kernelspec": {
      "language": "python",
      "display_name": "Python 3",
      "name": "python3"
    },
    "language_info": {
      "name": "python",
      "version": "3.10.12",
      "mimetype": "text/x-python",
      "codemirror_mode": {
        "name": "ipython",
        "version": 3
      },
      "pygments_lexer": "ipython3",
      "nbconvert_exporter": "python",
      "file_extension": ".py"
    },
    "colab": {
      "provenance": []
    }
  },
  "nbformat_minor": 0,
  "nbformat": 4,
  "cells": [
    {
      "cell_type": "code",
      "source": [
        "# Este entorno Python 3 viene con muchas bibliotecas de análisis útiles instaladas\n",
        "# Está definido por la imagen de Docker de kaggle/python: https://github.com/kaggle/docker-python\n",
        "# Por ejemplo, aquí hay varios paquetes útiles para cargar\n",
        "\n",
        "import numpy as np\n",
        "import pandas as pd\n",
        "\n",
        "# Los archivos de datos de entrada están disponibles en el directorio de solo lectura \"../input/\"\n",
        "# Por ejemplo, ejecutar esto (haciendo clic en ejecutar o presionando Shift+Enter) enumerará todos los archivos en el directorio de entrada\n",
        "\n",
        "import os\n",
        "for dirname, _, filenames in os.walk('/kaggle/input'):\n",
        "    for filename in filenames:\n",
        "        print(os.path.join(dirname, filename))\n",
        "\n"
      ],
      "metadata": {
        "_uuid": "8f2839f25d086af736a60e9eeb907d3b93b6e0e5",
        "_cell_guid": "b1076dfc-b9ad-4769-8c92-a6c4dae69d19",
        "execution": {
          "iopub.status.busy": "2023-09-12T07:54:12.328796Z",
          "iopub.execute_input": "2023-09-12T07:54:12.329186Z",
          "iopub.status.idle": "2023-09-12T07:54:12.338469Z",
          "shell.execute_reply.started": "2023-09-12T07:54:12.329156Z",
          "shell.execute_reply": "2023-09-12T07:54:12.337227Z"
        },
        "trusted": true,
        "id": "r4AbLVetHpV3",
        "outputId": "448110b2-5055-46ef-cdf7-2f8660694b4f"
      },
      "execution_count": null,
      "outputs": [
        {
          "name": "stdout",
          "text": "/kaggle/input/bali-popular-destination-for-tourist-2022/Bali Popular Destination for Tourist 2022 - Sheet1.csv\n",
          "output_type": "stream"
        }
      ]
    },
    {
      "cell_type": "code",
      "source": [
        "import os\n",
        "import sketch\n",
        "import pandas as pd\n",
        "import numpy as np\n",
        "import seaborn as sns\n",
        "import matplotlib.pyplot as plt\n",
        "%matplotlib inline\n",
        "from dataprep.eda import plot, plot_missing, create_report"
      ],
      "metadata": {
        "execution": {
          "iopub.status.busy": "2023-09-12T07:54:12.339892Z",
          "iopub.execute_input": "2023-09-12T07:54:12.340537Z",
          "iopub.status.idle": "2023-09-12T07:54:12.349433Z",
          "shell.execute_reply.started": "2023-09-12T07:54:12.340507Z",
          "shell.execute_reply": "2023-09-12T07:54:12.348504Z"
        },
        "trusted": true,
        "id": "o-zyfgudHpV7"
      },
      "execution_count": null,
      "outputs": []
    },
    {
      "cell_type": "code",
      "source": [
        "data = pd.read_csv('/kaggle/input/bali-popular-destination-for-tourist-2022/Bali Popular Destination for Tourist 2022 - Sheet1.csv')"
      ],
      "metadata": {
        "execution": {
          "iopub.status.busy": "2023-09-12T07:54:12.352412Z",
          "iopub.execute_input": "2023-09-12T07:54:12.352773Z",
          "iopub.status.idle": "2023-09-12T07:54:12.364925Z",
          "shell.execute_reply.started": "2023-09-12T07:54:12.352744Z",
          "shell.execute_reply": "2023-09-12T07:54:12.363918Z"
        },
        "trusted": true,
        "id": "3cQ956nwHpV7"
      },
      "execution_count": null,
      "outputs": []
    },
    {
      "cell_type": "code",
      "source": [
        "data.head()"
      ],
      "metadata": {
        "execution": {
          "iopub.status.busy": "2023-09-12T07:54:12.369849Z",
          "iopub.execute_input": "2023-09-12T07:54:12.370525Z",
          "iopub.status.idle": "2023-09-12T07:54:12.385837Z",
          "shell.execute_reply.started": "2023-09-12T07:54:12.370491Z",
          "shell.execute_reply": "2023-09-12T07:54:12.384752Z"
        },
        "trusted": true,
        "id": "UhAMDfVjHpV8",
        "outputId": "dfce05c1-9057-4d83-d61d-709e107d329c"
      },
      "execution_count": null,
      "outputs": [
        {
          "execution_count": 140,
          "output_type": "execute_result",
          "data": {
            "text/plain": "                Place                                           Location   \n0           Tanah Lot  Beraban, Kec. Kediri, Kabupaten Tabanan, Bali ...  \\\n1         Mount Batur                    Bangli Regency, Bali, Indonesia   \n2      Uluwatu Temple                       Uluwatu (South Kuta, Badung)   \n3  Ubud Monkey Forest  Jl. Monkey Forest, Ubud, Kecamatan Ubud, Kabup...   \n4           Goa Gajah                              Gianyar Regency, Bali   \n\n               Coordinate  Google Maps Rating  Google Reviews (Count)   \n0  8.6212° S, 115.0868° E                 4.6                   75899  \\\n1   8°14′20″S 115°22′39″E                 4.5                    2580   \n2  8.8291° S, 115.0849° E                 4.6                   28800   \n3  8.5194° S, 115.2606° E                 4.5                   36099   \n4  8.5069° S, 115.2625° E                 4.2                    6683   \n\n                                              Source   \n0  https://www.google.com/maps/place/Tanah+Lot/@-...  \\\n1  https://www.google.com/maps/place/Mt+Batur/@-8...   \n2  https://www.google.com/maps/place/Uluwatu+Temp...   \n3  https://www.google.com/maps/place/Sacred+Monke...   \n4  https://www.google.com/maps/place/Goa+Gajah/@-...   \n\n                                         Description   \n0  is a rock formation off the Indonesian island ...  \\\n1  Mount Batur (Gunung Batur) is an active volcan...   \n2  The temple is regarded as one of the sad kahya...   \n3  Mandala Suci Wenara Wana, or well known as Ubu...   \n4  Goa Gajah, or Elephant Cave, is located on the...   \n\n                 Tourism/Visitor Fee (approx in USD)  \n0  Yes, entrance tickets cost 20,000 Rupiah for I...  \n1  Yes, The Mount Batur trekking price is around ...  \n2  Yes, The Uluwatu Temple Bali entrance fee is I...  \n3  Yes, Visit to the Ubud Monkey Forest are subje...  \n4  Yes, Adult 50.000 IDR ($3.4 USD), Child 25.000...  ",
            "text/html": "<div>\n<style scoped>\n    .dataframe tbody tr th:only-of-type {\n        vertical-align: middle;\n    }\n\n    .dataframe tbody tr th {\n        vertical-align: top;\n    }\n\n    .dataframe thead th {\n        text-align: right;\n    }\n</style>\n<table border=\"1\" class=\"dataframe\">\n  <thead>\n    <tr style=\"text-align: right;\">\n      <th></th>\n      <th>Place</th>\n      <th>Location</th>\n      <th>Coordinate</th>\n      <th>Google Maps Rating</th>\n      <th>Google Reviews (Count)</th>\n      <th>Source</th>\n      <th>Description</th>\n      <th>Tourism/Visitor Fee (approx in USD)</th>\n    </tr>\n  </thead>\n  <tbody>\n    <tr>\n      <th>0</th>\n      <td>Tanah Lot</td>\n      <td>Beraban, Kec. Kediri, Kabupaten Tabanan, Bali ...</td>\n      <td>8.6212° S, 115.0868° E</td>\n      <td>4.6</td>\n      <td>75899</td>\n      <td>https://www.google.com/maps/place/Tanah+Lot/@-...</td>\n      <td>is a rock formation off the Indonesian island ...</td>\n      <td>Yes, entrance tickets cost 20,000 Rupiah for I...</td>\n    </tr>\n    <tr>\n      <th>1</th>\n      <td>Mount Batur</td>\n      <td>Bangli Regency, Bali, Indonesia</td>\n      <td>8°14′20″S 115°22′39″E</td>\n      <td>4.5</td>\n      <td>2580</td>\n      <td>https://www.google.com/maps/place/Mt+Batur/@-8...</td>\n      <td>Mount Batur (Gunung Batur) is an active volcan...</td>\n      <td>Yes, The Mount Batur trekking price is around ...</td>\n    </tr>\n    <tr>\n      <th>2</th>\n      <td>Uluwatu Temple</td>\n      <td>Uluwatu (South Kuta, Badung)</td>\n      <td>8.8291° S, 115.0849° E</td>\n      <td>4.6</td>\n      <td>28800</td>\n      <td>https://www.google.com/maps/place/Uluwatu+Temp...</td>\n      <td>The temple is regarded as one of the sad kahya...</td>\n      <td>Yes, The Uluwatu Temple Bali entrance fee is I...</td>\n    </tr>\n    <tr>\n      <th>3</th>\n      <td>Ubud Monkey Forest</td>\n      <td>Jl. Monkey Forest, Ubud, Kecamatan Ubud, Kabup...</td>\n      <td>8.5194° S, 115.2606° E</td>\n      <td>4.5</td>\n      <td>36099</td>\n      <td>https://www.google.com/maps/place/Sacred+Monke...</td>\n      <td>Mandala Suci Wenara Wana, or well known as Ubu...</td>\n      <td>Yes, Visit to the Ubud Monkey Forest are subje...</td>\n    </tr>\n    <tr>\n      <th>4</th>\n      <td>Goa Gajah</td>\n      <td>Gianyar Regency, Bali</td>\n      <td>8.5069° S, 115.2625° E</td>\n      <td>4.2</td>\n      <td>6683</td>\n      <td>https://www.google.com/maps/place/Goa+Gajah/@-...</td>\n      <td>Goa Gajah, or Elephant Cave, is located on the...</td>\n      <td>Yes, Adult 50.000 IDR ($3.4 USD), Child 25.000...</td>\n    </tr>\n  </tbody>\n</table>\n</div>"
          },
          "metadata": {}
        }
      ]
    },
    {
      "cell_type": "code",
      "source": [
        "data.info()"
      ],
      "metadata": {
        "execution": {
          "iopub.status.busy": "2023-09-12T07:54:12.387831Z",
          "iopub.execute_input": "2023-09-12T07:54:12.388213Z",
          "iopub.status.idle": "2023-09-12T07:54:12.402581Z",
          "shell.execute_reply.started": "2023-09-12T07:54:12.388181Z",
          "shell.execute_reply": "2023-09-12T07:54:12.401739Z"
        },
        "trusted": true,
        "id": "AhZnBJ_9HpV8",
        "outputId": "0d2d9957-5d1f-4940-ede3-06cb2af9c75f"
      },
      "execution_count": null,
      "outputs": [
        {
          "name": "stdout",
          "text": "<class 'pandas.core.frame.DataFrame'>\nRangeIndex: 34 entries, 0 to 33\nData columns (total 8 columns):\n #   Column                               Non-Null Count  Dtype  \n---  ------                               --------------  -----  \n 0   Place                                34 non-null     object \n 1   Location                             34 non-null     object \n 2   Coordinate                           34 non-null     object \n 3   Google Maps Rating                   34 non-null     float64\n 4   Google Reviews (Count)               34 non-null     int64  \n 5   Source                               34 non-null     object \n 6   Description                          34 non-null     object \n 7   Tourism/Visitor Fee (approx in USD)  34 non-null     object \ndtypes: float64(1), int64(1), object(6)\nmemory usage: 2.2+ KB\n",
          "output_type": "stream"
        }
      ]
    },
    {
      "cell_type": "code",
      "source": [
        "data.describe().T"
      ],
      "metadata": {
        "execution": {
          "iopub.status.busy": "2023-09-12T07:54:12.404249Z",
          "iopub.execute_input": "2023-09-12T07:54:12.405269Z",
          "iopub.status.idle": "2023-09-12T07:54:12.430290Z",
          "shell.execute_reply.started": "2023-09-12T07:54:12.405237Z",
          "shell.execute_reply": "2023-09-12T07:54:12.429502Z"
        },
        "trusted": true,
        "id": "21FHC72SHpV8",
        "outputId": "8ee8673f-88e0-4827-8998-2aca0c92e1b9"
      },
      "execution_count": null,
      "outputs": [
        {
          "execution_count": 142,
          "output_type": "execute_result",
          "data": {
            "text/plain": "                        count          mean           std    min     25%   \nGoogle Maps Rating       34.0      4.505882      0.143424    4.2     4.4  \\\nGoogle Reviews (Count)   34.0  15270.294118  16131.954807  172.0  4902.0   \n\n                           50%      75%      max  \nGoogle Maps Rating         4.5      4.6      4.8  \nGoogle Reviews (Count)  9345.5  16352.5  75899.0  ",
            "text/html": "<div>\n<style scoped>\n    .dataframe tbody tr th:only-of-type {\n        vertical-align: middle;\n    }\n\n    .dataframe tbody tr th {\n        vertical-align: top;\n    }\n\n    .dataframe thead th {\n        text-align: right;\n    }\n</style>\n<table border=\"1\" class=\"dataframe\">\n  <thead>\n    <tr style=\"text-align: right;\">\n      <th></th>\n      <th>count</th>\n      <th>mean</th>\n      <th>std</th>\n      <th>min</th>\n      <th>25%</th>\n      <th>50%</th>\n      <th>75%</th>\n      <th>max</th>\n    </tr>\n  </thead>\n  <tbody>\n    <tr>\n      <th>Google Maps Rating</th>\n      <td>34.0</td>\n      <td>4.505882</td>\n      <td>0.143424</td>\n      <td>4.2</td>\n      <td>4.4</td>\n      <td>4.5</td>\n      <td>4.6</td>\n      <td>4.8</td>\n    </tr>\n    <tr>\n      <th>Google Reviews (Count)</th>\n      <td>34.0</td>\n      <td>15270.294118</td>\n      <td>16131.954807</td>\n      <td>172.0</td>\n      <td>4902.0</td>\n      <td>9345.5</td>\n      <td>16352.5</td>\n      <td>75899.0</td>\n    </tr>\n  </tbody>\n</table>\n</div>"
          },
          "metadata": {}
        }
      ]
    },
    {
      "cell_type": "code",
      "source": [
        "data.describe(include='O').T"
      ],
      "metadata": {
        "execution": {
          "iopub.status.busy": "2023-09-12T07:54:12.432531Z",
          "iopub.execute_input": "2023-09-12T07:54:12.433249Z",
          "iopub.status.idle": "2023-09-12T07:54:12.455623Z",
          "shell.execute_reply.started": "2023-09-12T07:54:12.433207Z",
          "shell.execute_reply": "2023-09-12T07:54:12.454641Z"
        },
        "trusted": true,
        "id": "oDjYCB6zHpV8",
        "outputId": "ff03e7e0-c8b5-43e4-cb02-77740357a455"
      },
      "execution_count": null,
      "outputs": [
        {
          "execution_count": 143,
          "output_type": "execute_result",
          "data": {
            "text/plain": "                                    count unique   \nPlace                                  34     34  \\\nLocation                               34     33   \nCoordinate                             34     34   \nSource                                 34     34   \nDescription                            34     34   \nTourism/Visitor Fee (approx in USD)    34     29   \n\n                                                                                   top   \nPlace                                                                        Tanah Lot  \\\nLocation                                                    Kuta, Badung Regency, Bali   \nCoordinate                                                      8.6212° S, 115.0868° E   \nSource                               https://www.google.com/maps/place/Tanah+Lot/@-...   \nDescription                          is a rock formation off the Indonesian island ...   \nTourism/Visitor Fee (approx in USD)     Yes, depending on location and places visited.   \n\n                                    freq  \nPlace                                  1  \nLocation                               2  \nCoordinate                             1  \nSource                                 1  \nDescription                            1  \nTourism/Visitor Fee (approx in USD)    4  ",
            "text/html": "<div>\n<style scoped>\n    .dataframe tbody tr th:only-of-type {\n        vertical-align: middle;\n    }\n\n    .dataframe tbody tr th {\n        vertical-align: top;\n    }\n\n    .dataframe thead th {\n        text-align: right;\n    }\n</style>\n<table border=\"1\" class=\"dataframe\">\n  <thead>\n    <tr style=\"text-align: right;\">\n      <th></th>\n      <th>count</th>\n      <th>unique</th>\n      <th>top</th>\n      <th>freq</th>\n    </tr>\n  </thead>\n  <tbody>\n    <tr>\n      <th>Place</th>\n      <td>34</td>\n      <td>34</td>\n      <td>Tanah Lot</td>\n      <td>1</td>\n    </tr>\n    <tr>\n      <th>Location</th>\n      <td>34</td>\n      <td>33</td>\n      <td>Kuta, Badung Regency, Bali</td>\n      <td>2</td>\n    </tr>\n    <tr>\n      <th>Coordinate</th>\n      <td>34</td>\n      <td>34</td>\n      <td>8.6212° S, 115.0868° E</td>\n      <td>1</td>\n    </tr>\n    <tr>\n      <th>Source</th>\n      <td>34</td>\n      <td>34</td>\n      <td>https://www.google.com/maps/place/Tanah+Lot/@-...</td>\n      <td>1</td>\n    </tr>\n    <tr>\n      <th>Description</th>\n      <td>34</td>\n      <td>34</td>\n      <td>is a rock formation off the Indonesian island ...</td>\n      <td>1</td>\n    </tr>\n    <tr>\n      <th>Tourism/Visitor Fee (approx in USD)</th>\n      <td>34</td>\n      <td>29</td>\n      <td>Yes, depending on location and places visited.</td>\n      <td>4</td>\n    </tr>\n  </tbody>\n</table>\n</div>"
          },
          "metadata": {}
        }
      ]
    },
    {
      "cell_type": "code",
      "source": [
        "from dataprep.clean import clean_lat_long\n",
        "\n",
        "clenedDf = clean_lat_long(data, \"Coordinate\", split=True)\n"
      ],
      "metadata": {
        "execution": {
          "iopub.status.busy": "2023-09-12T07:54:13.518896Z",
          "iopub.execute_input": "2023-09-12T07:54:13.519301Z",
          "iopub.status.idle": "2023-09-12T07:54:13.593061Z",
          "shell.execute_reply.started": "2023-09-12T07:54:13.519273Z",
          "shell.execute_reply": "2023-09-12T07:54:13.592017Z"
        },
        "trusted": true,
        "colab": {
          "referenced_widgets": [
            ""
          ]
        },
        "id": "8TGcgz0GHpV-",
        "outputId": "37f9575a-5ae7-4d7c-b9d8-0957d849d991"
      },
      "execution_count": null,
      "outputs": [
        {
          "name": "stderr",
          "text": "/opt/conda/lib/python3.10/site-packages/dask/dataframe/core.py:7087: FutureWarning:\n\nMeta is not valid, `map_partitions` and `map_overlap` expects output to be a pandas object. Try passing a pandas object as meta or a dict or tuple representing the (name, dtype) of the columns. In the future the meta you passed will not work.\n\n",
          "output_type": "stream"
        },
        {
          "output_type": "display_data",
          "data": {
            "text/plain": "  0%|          | 0/9 [00:00<?, ?it/s]",
            "application/vnd.jupyter.widget-view+json": {
              "version_major": 2,
              "version_minor": 0,
              "model_id": ""
            }
          },
          "metadata": {}
        },
        {
          "name": "stdout",
          "text": "Latitude and Longitude Cleaning Report:\n\t34 values cleaned (100.0%)\nResult contains 34 (100.0%) values in the correct format and 0 null values (0.0%)\n",
          "output_type": "stream"
        }
      ]
    },
    {
      "cell_type": "code",
      "source": [
        "\n",
        "def find_and_filter_numbers(df, column_name):\n",
        "    \"\"\"\n",
        "    Mencari angka dalam kolom teks DataFrame Pandas dan mengambil angka\n",
        "    dengan ukuran tidak lebih dari 2.\n",
        "\n",
        "    Parameters:\n",
        "    df (pd.DataFrame): DataFrame Pandas yang berisi data teks.\n",
        "    column_name (str): Nama kolom dalam DataFrame yang ingin dianalisis.\n",
        "\n",
        "    Returns:\n",
        "    pd.Series: Seri Pandas berisi angka dengan ukuran tidak lebih dari 2.\n",
        "    \"\"\"\n",
        " # Buscar números en una columna usando expresiones regulares\n",
        "    pattern = r'\\$ \\d+'\n",
        "    df[column_name] = df[column_name].astype(str)\n",
        "    df['numbers'] = df[column_name].apply(lambda x: re.findall(pattern, x))\n",
        "\n",
        "    return df['numbers']"
      ],
      "metadata": {
        "execution": {
          "iopub.status.busy": "2023-09-12T07:54:47.299011Z",
          "iopub.execute_input": "2023-09-12T07:54:47.299397Z",
          "iopub.status.idle": "2023-09-12T07:54:47.306938Z",
          "shell.execute_reply.started": "2023-09-12T07:54:47.299366Z",
          "shell.execute_reply": "2023-09-12T07:54:47.305640Z"
        },
        "trusted": true,
        "id": "BZZjdE9mHpV-"
      },
      "execution_count": null,
      "outputs": []
    },
    {
      "cell_type": "code",
      "source": [
        "fees_list = find_and_filter_numbers(clenedDf, 'Tourism/Visitor Fee (approx in USD)')\n",
        "\n",
        "from collections import Counter\n",
        "\n",
        "filtered_fees = dict(Counter([fe for fee in fees_list for fe in fee]))"
      ],
      "metadata": {
        "execution": {
          "iopub.status.busy": "2023-09-12T07:54:49.054125Z",
          "iopub.execute_input": "2023-09-12T07:54:49.054547Z",
          "iopub.status.idle": "2023-09-12T07:54:49.062001Z",
          "shell.execute_reply.started": "2023-09-12T07:54:49.054515Z",
          "shell.execute_reply": "2023-09-12T07:54:49.060788Z"
        },
        "trusted": true,
        "id": "4F6tiV4FHpV-"
      },
      "execution_count": null,
      "outputs": []
    },
    {
      "cell_type": "code",
      "source": [
        "data.head()"
      ],
      "metadata": {
        "execution": {
          "iopub.status.busy": "2023-09-12T07:55:58.570268Z",
          "iopub.execute_input": "2023-09-12T07:55:58.570701Z",
          "iopub.status.idle": "2023-09-12T07:55:58.589964Z",
          "shell.execute_reply.started": "2023-09-12T07:55:58.570666Z",
          "shell.execute_reply": "2023-09-12T07:55:58.588970Z"
        },
        "trusted": true,
        "id": "RCE7NyLxHpV_",
        "outputId": "ecc38464-4ed3-4907-e40f-68c568971a6e"
      },
      "execution_count": null,
      "outputs": [
        {
          "execution_count": 156,
          "output_type": "execute_result",
          "data": {
            "text/plain": "                Place                                           Location   \n0           Tanah Lot  Beraban, Kec. Kediri, Kabupaten Tabanan, Bali ...  \\\n1         Mount Batur                    Bangli Regency, Bali, Indonesia   \n2      Uluwatu Temple                       Uluwatu (South Kuta, Badung)   \n3  Ubud Monkey Forest  Jl. Monkey Forest, Ubud, Kecamatan Ubud, Kabup...   \n4           Goa Gajah                              Gianyar Regency, Bali   \n\n               Coordinate  Google Maps Rating  Google Reviews (Count)   \n0  8.6212° S, 115.0868° E                 4.6                   75899  \\\n1   8°14′20″S 115°22′39″E                 4.5                    2580   \n2  8.8291° S, 115.0849° E                 4.6                   28800   \n3  8.5194° S, 115.2606° E                 4.5                   36099   \n4  8.5069° S, 115.2625° E                 4.2                    6683   \n\n                                              Source   \n0  https://www.google.com/maps/place/Tanah+Lot/@-...  \\\n1  https://www.google.com/maps/place/Mt+Batur/@-8...   \n2  https://www.google.com/maps/place/Uluwatu+Temp...   \n3  https://www.google.com/maps/place/Sacred+Monke...   \n4  https://www.google.com/maps/place/Goa+Gajah/@-...   \n\n                                         Description   \n0  is a rock formation off the Indonesian island ...  \\\n1  Mount Batur (Gunung Batur) is an active volcan...   \n2  The temple is regarded as one of the sad kahya...   \n3  Mandala Suci Wenara Wana, or well known as Ubu...   \n4  Goa Gajah, or Elephant Cave, is located on the...   \n\n                 Tourism/Visitor Fee (approx in USD)  \n0  Yes, entrance tickets cost 20,000 Rupiah for I...  \n1  Yes, The Mount Batur trekking price is around ...  \n2  Yes, The Uluwatu Temple Bali entrance fee is I...  \n3  Yes, Visit to the Ubud Monkey Forest are subje...  \n4  Yes, Adult 50.000 IDR ($3.4 USD), Child 25.000...  ",
            "text/html": "<div>\n<style scoped>\n    .dataframe tbody tr th:only-of-type {\n        vertical-align: middle;\n    }\n\n    .dataframe tbody tr th {\n        vertical-align: top;\n    }\n\n    .dataframe thead th {\n        text-align: right;\n    }\n</style>\n<table border=\"1\" class=\"dataframe\">\n  <thead>\n    <tr style=\"text-align: right;\">\n      <th></th>\n      <th>Place</th>\n      <th>Location</th>\n      <th>Coordinate</th>\n      <th>Google Maps Rating</th>\n      <th>Google Reviews (Count)</th>\n      <th>Source</th>\n      <th>Description</th>\n      <th>Tourism/Visitor Fee (approx in USD)</th>\n    </tr>\n  </thead>\n  <tbody>\n    <tr>\n      <th>0</th>\n      <td>Tanah Lot</td>\n      <td>Beraban, Kec. Kediri, Kabupaten Tabanan, Bali ...</td>\n      <td>8.6212° S, 115.0868° E</td>\n      <td>4.6</td>\n      <td>75899</td>\n      <td>https://www.google.com/maps/place/Tanah+Lot/@-...</td>\n      <td>is a rock formation off the Indonesian island ...</td>\n      <td>Yes, entrance tickets cost 20,000 Rupiah for I...</td>\n    </tr>\n    <tr>\n      <th>1</th>\n      <td>Mount Batur</td>\n      <td>Bangli Regency, Bali, Indonesia</td>\n      <td>8°14′20″S 115°22′39″E</td>\n      <td>4.5</td>\n      <td>2580</td>\n      <td>https://www.google.com/maps/place/Mt+Batur/@-8...</td>\n      <td>Mount Batur (Gunung Batur) is an active volcan...</td>\n      <td>Yes, The Mount Batur trekking price is around ...</td>\n    </tr>\n    <tr>\n      <th>2</th>\n      <td>Uluwatu Temple</td>\n      <td>Uluwatu (South Kuta, Badung)</td>\n      <td>8.8291° S, 115.0849° E</td>\n      <td>4.6</td>\n      <td>28800</td>\n      <td>https://www.google.com/maps/place/Uluwatu+Temp...</td>\n      <td>The temple is regarded as one of the sad kahya...</td>\n      <td>Yes, The Uluwatu Temple Bali entrance fee is I...</td>\n    </tr>\n    <tr>\n      <th>3</th>\n      <td>Ubud Monkey Forest</td>\n      <td>Jl. Monkey Forest, Ubud, Kecamatan Ubud, Kabup...</td>\n      <td>8.5194° S, 115.2606° E</td>\n      <td>4.5</td>\n      <td>36099</td>\n      <td>https://www.google.com/maps/place/Sacred+Monke...</td>\n      <td>Mandala Suci Wenara Wana, or well known as Ubu...</td>\n      <td>Yes, Visit to the Ubud Monkey Forest are subje...</td>\n    </tr>\n    <tr>\n      <th>4</th>\n      <td>Goa Gajah</td>\n      <td>Gianyar Regency, Bali</td>\n      <td>8.5069° S, 115.2625° E</td>\n      <td>4.2</td>\n      <td>6683</td>\n      <td>https://www.google.com/maps/place/Goa+Gajah/@-...</td>\n      <td>Goa Gajah, or Elephant Cave, is located on the...</td>\n      <td>Yes, Adult 50.000 IDR ($3.4 USD), Child 25.000...</td>\n    </tr>\n  </tbody>\n</table>\n</div>"
          },
          "metadata": {}
        }
      ]
    }
  ]
}